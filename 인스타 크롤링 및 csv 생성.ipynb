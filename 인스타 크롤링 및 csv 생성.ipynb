{
 "cells": [
  {
   "cell_type": "code",
   "execution_count": null,
   "id": "10c22a1d-5680-41e5-b3a1-906e1f6a5b45",
   "metadata": {},
   "outputs": [],
   "source": [
    "import os\n",
    "com = \"instalooter hashtag 여행 여행 -d -n 100000\" # 10만\n",
    "os.system(com)"
   ]
  },
  {
   "cell_type": "code",
   "execution_count": 24,
   "id": "e1680baa-7684-40b8-93f8-054fdb3309e7",
   "metadata": {},
   "outputs": [],
   "source": [
    "import pandas as pd\n",
    "def ext_split(data):\n",
    "    return data.split(\".\")[0]\n",
    "filelist = os.listdir(\"./여행\")\n",
    "filelist = list(set(pd.Series(filelist).apply(ext_split)))"
   ]
  },
  {
   "cell_type": "code",
   "execution_count": 107,
   "id": "5dd3cedd-ce38-4255-bd1e-7bedc5c432eb",
   "metadata": {},
   "outputs": [
    {
     "name": "stderr",
     "output_type": "stream",
     "text": [
      "100%|██████████████████████████████████████████████| 100000/100000 [00:26<00:00, 3840.88it/s]\n"
     ]
    }
   ],
   "source": [
    "import json, re\n",
    "file_name = []\n",
    "text_list = []\n",
    "hashtag_list = []\n",
    "for filename in tqdm(filelist):\n",
    "    pattern = re.compile(\"#([0-9a-zA-Z가-힣]*)\")\n",
    "    with open(f\"./여행/{filename}.json\", \"r\") as st_json:\n",
    "        \n",
    "        json_file = json.load(st_json)\n",
    "        try:\n",
    "            split_data = json_file['edge_media_to_caption']['edges'][0]['node']['text']\n",
    "        except:\n",
    "            continue\n",
    "\n",
    "        m = pattern.findall(split_data)\n",
    "        \n",
    "        if(len(m)==0):\n",
    "            continue\n",
    "        \n",
    "        temp_hashtag = []\n",
    "        \n",
    "        \n",
    "        for unit in m:\n",
    "            if unit == \"\":\n",
    "                continue\n",
    "            else:\n",
    "                temp_hashtag.append(unit)\n",
    "        \n",
    "        split_data = pattern.sub(',',split_data)\n",
    "        \n",
    "        file_name.append(filename)\n",
    "        text_list.append(split_data)\n",
    "        hashtag_list.append(temp_hashtag)"
   ]
  },
  {
   "cell_type": "code",
   "execution_count": 123,
   "id": "61bfb7d9-90b4-4262-9471-0ef4e814fd73",
   "metadata": {
    "tags": []
   },
   "outputs": [
    {
     "name": "stderr",
     "output_type": "stream",
     "text": [
      "100%|█████████████████████████████████████████████████| 65314/65314 [03:50<00:00, 282.96it/s]\n"
     ]
    }
   ],
   "source": [
    "hashtag_df = pd.DataFrame(columns=['hashtag'])\n",
    "for id in tqdm(range(len(hashtag_list))):\n",
    "    hashtag_df.loc[id] = [hashtag_list[id]]\n",
    "    \n",
    "filename_df = pd.DataFrame(file_name)\n",
    "text_df = pd.DataFrame(text_list)"
   ]
  },
  {
   "cell_type": "code",
   "execution_count": 210,
   "id": "cd279317-7026-43b1-835d-fea06d4cb33a",
   "metadata": {},
   "outputs": [],
   "source": [
    "df = pd.concat([filename_df,text_df,hashtag_df],axis=1)\n",
    "df.columns=['Name','Contents','captions']"
   ]
  },
  {
   "cell_type": "code",
   "execution_count": 211,
   "id": "82237658-ac6e-46ae-90f0-d09f2437d4b5",
   "metadata": {},
   "outputs": [
    {
     "data": {
      "text/html": [
       "<div>\n",
       "<style scoped>\n",
       "    .dataframe tbody tr th:only-of-type {\n",
       "        vertical-align: middle;\n",
       "    }\n",
       "\n",
       "    .dataframe tbody tr th {\n",
       "        vertical-align: top;\n",
       "    }\n",
       "\n",
       "    .dataframe thead th {\n",
       "        text-align: right;\n",
       "    }\n",
       "</style>\n",
       "<table border=\"1\" class=\"dataframe\">\n",
       "  <thead>\n",
       "    <tr style=\"text-align: right;\">\n",
       "      <th></th>\n",
       "      <th>Name</th>\n",
       "      <th>Contents</th>\n",
       "      <th>captions</th>\n",
       "    </tr>\n",
       "  </thead>\n",
       "  <tbody>\n",
       "    <tr>\n",
       "      <th>0</th>\n",
       "      <td>2764018393037446865</td>\n",
       "      <td>👸 468일할미가 주신 한복입고 빨빨거리고 돌아댕기다 뻐더따!집 외에는 응가 안 싸...</td>\n",
       "      <td>[많이먹어따]</td>\n",
       "    </tr>\n",
       "    <tr>\n",
       "      <th>1</th>\n",
       "      <td>2762426206197766802</td>\n",
       "      <td>景色最高！静かにコーヒーやお茶を楽しみたい時おすすめのカフェ♫【カフェ情報】📍 충남 아산시...</td>\n",
       "      <td>[사네]</td>\n",
       "    </tr>\n",
       "    <tr>\n",
       "      <th>2</th>\n",
       "      <td>2758661923951557234</td>\n",
       "      <td>우리 막내랑 예전에 카페 여행와서 둘이 뷰 보면서 뒤에서 아들들이  인생컷을 찍어줬...</td>\n",
       "      <td>[여행, 여행스타그램, 여행그램, 야경스타그램, 감성여행, 여행중, 여행기, 여행스...</td>\n",
       "    </tr>\n",
       "    <tr>\n",
       "      <th>3</th>\n",
       "      <td>2764062074039309286</td>\n",
       "      <td>.이탈리아 여행 후 그렸던 그림들.다시 한 번 잘 그려볼까 싶기도 하지만 해야할 일...</td>\n",
       "      <td>[이탈리아, 여행, 아이패드, 푸로크리에이터, 트레이싱, Italy, 피렌체, 밀라...</td>\n",
       "    </tr>\n",
       "    <tr>\n",
       "      <th>4</th>\n",
       "      <td>2761564841842721319</td>\n",
       "      <td>(한줄생략)프레딧에서 쿠폰 적용해서 산 도가니랑 설렁탕에 떡이랑 만두랑 지단 넣어서...</td>\n",
       "      <td>[온더테이블]</td>\n",
       "    </tr>\n",
       "    <tr>\n",
       "      <th>...</th>\n",
       "      <td>...</td>\n",
       "      <td>...</td>\n",
       "      <td>...</td>\n",
       "    </tr>\n",
       "    <tr>\n",
       "      <th>47378</th>\n",
       "      <td>2758628391229315782</td>\n",
       "      <td>마! 누나랑 집 가자! ❤️</td>\n",
       "      <td>[이호테우해변, 쓰담쓰담]</td>\n",
       "    </tr>\n",
       "    <tr>\n",
       "      <th>47379</th>\n",
       "      <td>2758651338748089608</td>\n",
       "      <td>미스터 선샤인 촬영지인 션샤인 랜드 에가서 메인 건물인 글로벌호텔을 담아보았는데 디...</td>\n",
       "      <td>[논산, 선샤인스튜디오, 선샤인랜드, 여행, 여행스타그램, 여행사진, 사진계정, 사...</td>\n",
       "    </tr>\n",
       "    <tr>\n",
       "      <th>47380</th>\n",
       "      <td>2758933468144356615</td>\n",
       "      <td>1/22    10시 34분 도착했는데... 예약끝났다. 휴...그래서 점심은  탕...</td>\n",
       "      <td>[일기, 내일로, 여행, 키친마이야르, 오향가, 노티드도넛, 리베라호텔]</td>\n",
       "    </tr>\n",
       "    <tr>\n",
       "      <th>47381</th>\n",
       "      <td>2763998172692098385</td>\n",
       "      <td>우리강아지~~😘😘.....</td>\n",
       "      <td>[리케리케, 유성, 봉명동, 카페, 애견동반, 애견카페, 유성카페, 셀스타그램, 셀...</td>\n",
       "    </tr>\n",
       "    <tr>\n",
       "      <th>47382</th>\n",
       "      <td>2761632583224639404</td>\n",
       "      <td>숨이 차지만 오르고 오르면📷  🎞  🖨</td>\n",
       "      <td>[pentaxmx, kodakgold200, 연남필름]</td>\n",
       "    </tr>\n",
       "  </tbody>\n",
       "</table>\n",
       "<p>47383 rows × 3 columns</p>\n",
       "</div>"
      ],
      "text/plain": [
       "                      Name                                           Contents  \\\n",
       "0      2764018393037446865  👸 468일할미가 주신 한복입고 빨빨거리고 돌아댕기다 뻐더따!집 외에는 응가 안 싸...   \n",
       "1      2762426206197766802  景色最高！静かにコーヒーやお茶を楽しみたい時おすすめのカフェ♫【カフェ情報】📍 충남 아산시...   \n",
       "2      2758661923951557234  우리 막내랑 예전에 카페 여행와서 둘이 뷰 보면서 뒤에서 아들들이  인생컷을 찍어줬...   \n",
       "3      2764062074039309286  .이탈리아 여행 후 그렸던 그림들.다시 한 번 잘 그려볼까 싶기도 하지만 해야할 일...   \n",
       "4      2761564841842721319  (한줄생략)프레딧에서 쿠폰 적용해서 산 도가니랑 설렁탕에 떡이랑 만두랑 지단 넣어서...   \n",
       "...                    ...                                                ...   \n",
       "47378  2758628391229315782                                    마! 누나랑 집 가자! ❤️   \n",
       "47379  2758651338748089608  미스터 선샤인 촬영지인 션샤인 랜드 에가서 메인 건물인 글로벌호텔을 담아보았는데 디...   \n",
       "47380  2758933468144356615  1/22    10시 34분 도착했는데... 예약끝났다. 휴...그래서 점심은  탕...   \n",
       "47381  2763998172692098385                                     우리강아지~~😘😘.....   \n",
       "47382  2761632583224639404                             숨이 차지만 오르고 오르면📷  🎞  🖨    \n",
       "\n",
       "                                                captions  \n",
       "0                                                [많이먹어따]  \n",
       "1                                                   [사네]  \n",
       "2      [여행, 여행스타그램, 여행그램, 야경스타그램, 감성여행, 여행중, 여행기, 여행스...  \n",
       "3      [이탈리아, 여행, 아이패드, 푸로크리에이터, 트레이싱, Italy, 피렌체, 밀라...  \n",
       "4                                                [온더테이블]  \n",
       "...                                                  ...  \n",
       "47378                                     [이호테우해변, 쓰담쓰담]  \n",
       "47379  [논산, 선샤인스튜디오, 선샤인랜드, 여행, 여행스타그램, 여행사진, 사진계정, 사...  \n",
       "47380           [일기, 내일로, 여행, 키친마이야르, 오향가, 노티드도넛, 리베라호텔]  \n",
       "47381  [리케리케, 유성, 봉명동, 카페, 애견동반, 애견카페, 유성카페, 셀스타그램, 셀...  \n",
       "47382                     [pentaxmx, kodakgold200, 연남필름]  \n",
       "\n",
       "[47383 rows x 3 columns]"
      ]
     },
     "execution_count": 211,
     "metadata": {},
     "output_type": "execute_result"
    }
   ],
   "source": [
    "def delete_line(data):\n",
    "    data = data.replace(\"\\n\",\"\")\n",
    "    data = data.replace(\"\\r\",\" \")\n",
    "    data = data.replace(\",\",\"\")\n",
    "    return data\n",
    "\n",
    "find_hangul = re.compile('[가-힣]+')\n",
    "def filter_hangul(data):\n",
    "    if (len(find_hangul.findall(data)) == 0 or len(data)<10):\n",
    "        return None\n",
    "    return data\n",
    "\n",
    "\n",
    "def del_ad(data):\n",
    "    if \"수익\" in data:\n",
    "        return None\n",
    "    if \"회원\" in data:\n",
    "        return None\n",
    "    return data\n",
    "\n",
    "# 불필요한 문자 제거\n",
    "df.Contents = df.Contents.apply(delete_line)\n",
    "        \n",
    "# 광고 제거\n",
    "df.Contents = df.Contents.apply(del_ad)\n",
    "df.drop(df.loc[df.Contents.isnull()].index,axis=0,inplace=True)\n",
    "\n",
    "# 한글 포함 게시글만 남기기\n",
    "df.Contents = df.Contents.apply(filter_hangul)\n",
    "df.drop(df.loc[df.Contents.isnull()].index,axis=0,inplace=True)\n",
    "\n",
    "# 인덱스 초기화\n",
    "df = df.reset_index(drop=True)\n",
    "\n",
    "# 저장\n",
    "df.to_csv(\"insta.csv\",index=False,encoding='utf-8-sig')\n",
    "\n",
    "df"
   ]
  },
  {
   "cell_type": "code",
   "execution_count": 215,
   "id": "ef94be23-352e-4018-87cb-628ac0eef996",
   "metadata": {},
   "outputs": [
    {
     "name": "stderr",
     "output_type": "stream",
     "text": [
      "100%|█████████████████████████████████████████████████| 52617/52617 [02:31<00:00, 346.86it/s]\n"
     ]
    }
   ],
   "source": [
    "# 불필요 이미지 제거\n",
    "remove_file = list(set(filelist) - set(df.Name))\n",
    "for target_file in tqdm(remove_file):\n",
    "    os.remove(f\"./여행/{target_file}.jpg\")\n",
    "    os.remove(f\"./여행/{target_file}.json\")"
   ]
  }
 ],
 "metadata": {
  "kernelspec": {
   "display_name": "Python 3",
   "language": "python",
   "name": "python3"
  },
  "language_info": {
   "codemirror_mode": {
    "name": "ipython",
    "version": 3
   },
   "file_extension": ".py",
   "mimetype": "text/x-python",
   "name": "python",
   "nbconvert_exporter": "python",
   "pygments_lexer": "ipython3",
   "version": "3.8.8"
  }
 },
 "nbformat": 4,
 "nbformat_minor": 5
}

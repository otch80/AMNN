{
 "cells": [
  {
   "cell_type": "markdown",
   "id": "ea7d1839",
   "metadata": {},
   "source": [
    "### 인스타 데이터 수집"
   ]
  },
  {
   "cell_type": "code",
   "execution_count": 71,
   "id": "10c22a1d-5680-41e5-b3a1-906e1f6a5b45",
   "metadata": {},
   "outputs": [
    {
     "name": "stderr",
     "output_type": "stream",
     "text": [
      "100%|██████████████████████████████████████████████████| 165/165 [33:35<00:00, 12.22s/it]\n"
     ]
    }
   ],
   "source": [
    "from tqdm import tqdm\n",
    "import os\n",
    "hashtag_list = ['일상','daily','instadaily','일상스타그램','일상그램','데일리그램','오늘','데일리','인친','예쁘다그램','바쁜일상','감성','좋아그램','생각스타그램','내멋대로산다','감성일기장','친스타그램','인친스타그램','뷰스타그램','인스타뷰티','beauty','뷰스타','뷰티그램','인생템','메이크업','instamakeup','makeup','selfie','selfcam','ootd','셀스타그램','찍스타그램','셀카','셀피','얼스타그램','셀기꾼','흔녀','흔남','셀피스타그램','얼피','커플','커플그램','럽스타그램','커플스타그램','더럽','러블리','연애중','연애스타그램','데이트','데이트스타그램','커플스탭','컵스타그램','인스타패션','패션','견스타그램','펫스타그램','캣스타그램','냥스타그램','요리스타그램','맛집스타그램','맛스타그램','마스타','맛있다그램','먹스타그램','맛있어','취향저격','instafood','foodstagram','food','맛있다','냠냠쩝쩝','술스타그램','오늘뭐먹지','야식','간식','간식그램','간식스타그램','꿀맛','존맛','존맛탱','핵존맛','쿡스타그램','푸드스타그램','온더테이블','커피스타그램','홈쿡','집밥','가정식','foodie','가정식백반','먹스타그램','먹스타','koreafood','집밥스타그램','맛집탐방','카페스타그램','카페추천','맛집그램','혼술','혼밥','여행','여행스타그램','여행그램','야경스타그램','감성여행','여행중','여행기','여행스탭','떠나요','여행일상','걷고싶은길','여행에미치다','여행사진','어디까지가봣니','스탭','또가고싶다','세계여행','00일차','추억팔이','여행병','여행추억','여행일기','trip','trippin','trippics','tripping','tripstagram','travel','instatravel','travelgram','tourist','tourism','traveling','휴가','휴가스타그램','휴가룩','육아','육아그램','육아스타그램','육아맘그램','맘스타그램','애스타그램','세젤귀','세젤예','인스타키즈','키즈스타그램','키즈그램','키즈패션','육아맘','육아일상','육아헬','육아일기','육아인스타','출산선물','베이비그램','딸바보','아들바보','아들그램','딸그램','아들스타그램','딸스타그램','아들맘','딸맘','줌마스타그램','줌마그램']\n",
    "\n",
    "for hashtag in tqdm(hashtag_list):\n",
    "    com = f\"instalooter hashtag {hashtag} dataset -d -n 200\"\n",
    "    os.system(com)"
   ]
  },
  {
   "cell_type": "markdown",
   "id": "b70e9ac5",
   "metadata": {},
   "source": [
    "### 수집한 데이터 이름 조회"
   ]
  },
  {
   "cell_type": "code",
   "execution_count": 72,
   "id": "e1680baa-7684-40b8-93f8-054fdb3309e7",
   "metadata": {},
   "outputs": [],
   "source": [
    "import pandas as pd\n",
    "def ext_split(data):\n",
    "    return data.split(\".\")[0]\n",
    "filelist = os.listdir(\"./dataset\")\n",
    "filelist = list(set(pd.Series(filelist).apply(ext_split)))"
   ]
  },
  {
   "cell_type": "markdown",
   "id": "d0469a61",
   "metadata": {},
   "source": [
    "### 1차 필터링 - 텍스트에 한글, 영어, 숫자가 있는 피드만 추출"
   ]
  },
  {
   "cell_type": "code",
   "execution_count": 73,
   "id": "5dd3cedd-ce38-4255-bd1e-7bedc5c432eb",
   "metadata": {},
   "outputs": [
    {
     "name": "stderr",
     "output_type": "stream",
     "text": [
      "100%|█████████████████████████████████████████████| 22282/22282 [02:54<00:00, 127.93it/s]\n"
     ]
    }
   ],
   "source": [
    "from tqdm import tqdm\n",
    "import json, re\n",
    "file_name = []\n",
    "text_list = []\n",
    "hashtag_list = []\n",
    "for filename in tqdm(filelist):\n",
    "    pattern = re.compile(\"#([0-9a-zA-Z가-힣]*)\")\n",
    "    with open(f\"./dataset/{filename}.json\", \"r\") as st_json:\n",
    "        \n",
    "        json_file = json.load(st_json)\n",
    "        try:\n",
    "            split_data = json_file['edge_media_to_caption']['edges'][0]['node']['text']\n",
    "        except:\n",
    "            continue\n",
    "\n",
    "        m = pattern.findall(split_data)\n",
    "        \n",
    "        if(len(m)==0):\n",
    "            continue\n",
    "        \n",
    "        temp_hashtag = []\n",
    "        \n",
    "        \n",
    "        for unit in m:\n",
    "            if unit == \"\":\n",
    "                continue\n",
    "            else:\n",
    "                temp_hashtag.append(unit)\n",
    "        \n",
    "        split_data = pattern.sub(',',split_data)\n",
    "        \n",
    "        file_name.append(filename)\n",
    "        text_list.append(split_data)\n",
    "        hashtag_list.append(temp_hashtag)"
   ]
  },
  {
   "cell_type": "markdown",
   "id": "357c5fe3",
   "metadata": {},
   "source": [
    "### 해시태그 추출"
   ]
  },
  {
   "cell_type": "code",
   "execution_count": 74,
   "id": "61bfb7d9-90b4-4262-9471-0ef4e814fd73",
   "metadata": {
    "tags": []
   },
   "outputs": [
    {
     "name": "stderr",
     "output_type": "stream",
     "text": [
      "100%|█████████████████████████████████████████████| 15875/15875 [00:33<00:00, 480.62it/s]\n"
     ]
    }
   ],
   "source": [
    "hashtag_df = pd.DataFrame(columns=['hashtag'])\n",
    "for id in tqdm(range(len(hashtag_list))):\n",
    "    hashtag_df.loc[id] = [hashtag_list[id]]\n",
    "    \n",
    "filename_df = pd.DataFrame(file_name)\n",
    "text_df = pd.DataFrame(text_list)"
   ]
  },
  {
   "cell_type": "markdown",
   "id": "5946043c",
   "metadata": {},
   "source": [
    "### 이미지이름, 텍스트, 해시태그 병합"
   ]
  },
  {
   "cell_type": "code",
   "execution_count": 75,
   "id": "d31ef5fc-c259-484f-8262-1e9e44615d4c",
   "metadata": {},
   "outputs": [],
   "source": [
    "df = pd.concat([filename_df,text_df,hashtag_df],axis=1)\n",
    "df.columns=['Name','Contents','captions']"
   ]
  },
  {
   "cell_type": "markdown",
   "id": "b1cdeda7",
   "metadata": {},
   "source": [
    "### 2차 필터링 - 광고제거, 한글을 포함한 게시글만 남기기, csv 저장"
   ]
  },
  {
   "cell_type": "code",
   "execution_count": 76,
   "id": "82237658-ac6e-46ae-90f0-d09f2437d4b5",
   "metadata": {
    "tags": []
   },
   "outputs": [
    {
     "data": {
      "text/html": [
       "<div>\n",
       "<style scoped>\n",
       "    .dataframe tbody tr th:only-of-type {\n",
       "        vertical-align: middle;\n",
       "    }\n",
       "\n",
       "    .dataframe tbody tr th {\n",
       "        vertical-align: top;\n",
       "    }\n",
       "\n",
       "    .dataframe thead th {\n",
       "        text-align: right;\n",
       "    }\n",
       "</style>\n",
       "<table border=\"1\" class=\"dataframe\">\n",
       "  <thead>\n",
       "    <tr style=\"text-align: right;\">\n",
       "      <th></th>\n",
       "      <th>Name</th>\n",
       "      <th>Contents</th>\n",
       "      <th>captions</th>\n",
       "    </tr>\n",
       "  </thead>\n",
       "  <tbody>\n",
       "    <tr>\n",
       "      <th>0</th>\n",
       "      <td>2768320131198970077</td>\n",
       "      <td>🍌🥞banana pancakes집에 남은 바나나 해치우기 애매할 때 해먹기 딱 좋은...</td>\n",
       "      <td>[homemade, koreanfood, simplecooking, homecook...</td>\n",
       "    </tr>\n",
       "    <tr>\n",
       "      <th>1</th>\n",
       "      <td>2768372291294523883</td>\n",
       "      <td>울 딸랑구 감기 걸려서 병원 내원하고 집에오니 늦어서 핼스장 못가고 아파트 헬스장에...</td>\n",
       "      <td>[몸뚱이개조중, 운동, 운동스타그램, 운동하는남자, 운동하는직장인, 운동하는아빠, ...</td>\n",
       "    </tr>\n",
       "    <tr>\n",
       "      <th>2</th>\n",
       "      <td>2768152909861339732</td>\n",
       "      <td>체력고갈</td>\n",
       "      <td>[여자템, 결혼, 오오티디, 셀카그램, 연애스타그램, 셀기꾼]</td>\n",
       "    </tr>\n",
       "    <tr>\n",
       "      <th>3</th>\n",
       "      <td>2767608636311416933</td>\n",
       "      <td>내가 가장 좋아하는 아쿠아리움 드디어 다녀왔다🦦❤️.......  뷰티  팔...</td>\n",
       "      <td>[00, 스냅사진, 아쿠아리움, cafe, daily, dailylook, styl...</td>\n",
       "    </tr>\n",
       "    <tr>\n",
       "      <th>4</th>\n",
       "      <td>2759485501676069416</td>\n",
       "      <td>이쁘게 사진좀 찍어 ꉂ (๑¯ਊ¯)σ</td>\n",
       "      <td>[인스타패션, 감성, 마스타, 강아지, 육아기록, 팔로잉, 베이비인스타, 여행사진,...</td>\n",
       "    </tr>\n",
       "    <tr>\n",
       "      <th>...</th>\n",
       "      <td>...</td>\n",
       "      <td>...</td>\n",
       "      <td>...</td>\n",
       "    </tr>\n",
       "    <tr>\n",
       "      <th>9478</th>\n",
       "      <td>2768365553230553195</td>\n",
       "      <td>🥓 생고기모둠 500g  36.0🥩 꼬들목살 13.0🍖 치마살 13.0🥚 계란찜 3...</td>\n",
       "      <td>[서신동맛집, 식껍]</td>\n",
       "    </tr>\n",
       "    <tr>\n",
       "      <th>9479</th>\n",
       "      <td>2768281622707833913</td>\n",
       "      <td>비행기 타고 여행가고 싶다~~~지난 블라디보스톡 갈때 찍은사진!!</td>\n",
       "      <td>[추억팔이, 항공샷, 사진스타그램, 여행가고싶다, 블라디보스톡]</td>\n",
       "    </tr>\n",
       "    <tr>\n",
       "      <th>9480</th>\n",
       "      <td>2766773412619039909</td>\n",
       "      <td>• 싱긋💡𝗣𝗵𝗼𝘁𝗼 - Younginsan Natural Forest</td>\n",
       "      <td>[travel, 자비스, jarvis]</td>\n",
       "    </tr>\n",
       "    <tr>\n",
       "      <th>9481</th>\n",
       "      <td>2768273354904182936</td>\n",
       "      <td>헬퍼 이모님께서 머리 흘러내리면 안이쁘다고 앞 옆 뒤로 왁스 바르고 시작ㅎㅎ 왁스...</td>\n",
       "      <td>[생후326일]</td>\n",
       "    </tr>\n",
       "    <tr>\n",
       "      <th>9482</th>\n",
       "      <td>2767440745787212497</td>\n",
       "      <td>◡̈간만에 여유롭게  ☕설연휴덕분에 많이 쉬어서 목금만 출근하고또 주말을 보내는 중...</td>\n",
       "      <td>[코히한잔, 20대끝자락, 29세]</td>\n",
       "    </tr>\n",
       "  </tbody>\n",
       "</table>\n",
       "<p>9483 rows × 3 columns</p>\n",
       "</div>"
      ],
      "text/plain": [
       "                     Name                                           Contents  \\\n",
       "0     2768320131198970077  🍌🥞banana pancakes집에 남은 바나나 해치우기 애매할 때 해먹기 딱 좋은...   \n",
       "1     2768372291294523883  울 딸랑구 감기 걸려서 병원 내원하고 집에오니 늦어서 핼스장 못가고 아파트 헬스장에...   \n",
       "2     2768152909861339732                                         체력고갈         \n",
       "3     2767608636311416933  내가 가장 좋아하는 아쿠아리움 드디어 다녀왔다🦦❤️.......  뷰티  팔...   \n",
       "4     2759485501676069416               이쁘게 사진좀 찍어 ꉂ (๑¯ਊ¯)σ                   \n",
       "...                   ...                                                ...   \n",
       "9478  2768365553230553195  🥓 생고기모둠 500g  36.0🥩 꼬들목살 13.0🍖 치마살 13.0🥚 계란찜 3...   \n",
       "9479  2768281622707833913           비행기 타고 여행가고 싶다~~~지난 블라디보스톡 갈때 찍은사진!!       \n",
       "9480  2766773412619039909           • 싱긋💡𝗣𝗵𝗼𝘁𝗼 - Younginsan Natural Forest     \n",
       "9481  2768273354904182936   헬퍼 이모님께서 머리 흘러내리면 안이쁘다고 앞 옆 뒤로 왁스 바르고 시작ㅎㅎ 왁스...   \n",
       "9482  2767440745787212497  ◡̈간만에 여유롭게  ☕설연휴덕분에 많이 쉬어서 목금만 출근하고또 주말을 보내는 중...   \n",
       "\n",
       "                                               captions  \n",
       "0     [homemade, koreanfood, simplecooking, homecook...  \n",
       "1     [몸뚱이개조중, 운동, 운동스타그램, 운동하는남자, 운동하는직장인, 운동하는아빠, ...  \n",
       "2                    [여자템, 결혼, 오오티디, 셀카그램, 연애스타그램, 셀기꾼]  \n",
       "3     [00, 스냅사진, 아쿠아리움, cafe, daily, dailylook, styl...  \n",
       "4     [인스타패션, 감성, 마스타, 강아지, 육아기록, 팔로잉, 베이비인스타, 여행사진,...  \n",
       "...                                                 ...  \n",
       "9478                                        [서신동맛집, 식껍]  \n",
       "9479                [추억팔이, 항공샷, 사진스타그램, 여행가고싶다, 블라디보스톡]  \n",
       "9480                              [travel, 자비스, jarvis]  \n",
       "9481                                           [생후326일]  \n",
       "9482                                [코히한잔, 20대끝자락, 29세]  \n",
       "\n",
       "[9483 rows x 3 columns]"
      ]
     },
     "execution_count": 76,
     "metadata": {},
     "output_type": "execute_result"
    }
   ],
   "source": [
    "def delete_line(data):\n",
    "    data = data.replace(\"\\n\",\"\")\n",
    "    data = data.replace(\"\\r\",\" \")\n",
    "    data = data.replace(\",\",\"\")\n",
    "    return data\n",
    "\n",
    "find_hangul = re.compile('[가-힣]+')\n",
    "def filter_hangul(data):\n",
    "    if (len(find_hangul.findall(data)) == 0 or len(data)<10):\n",
    "        return None\n",
    "    return data\n",
    "\n",
    "\n",
    "ban_list = [\"수익\",\"회원\",\"타로\",\"사주\",\"종목\",\"BJ\",\"바디프로필\",\"타투\",\"수익\",\"주식\",\"배당\",\"당첨\",\"탈모\",\"쇼핑\",\"재테크\",\"투자\",\"소액\",\"재입고\",\"응모\",\"주부\",\"돈벌기\",\"입양\",\"속눈썹\",\"시술\",\"프로필\",\"카카오톡\",\"카톡\",\"배송\",\"플러스친구\",\"제품설명\",\"링크\",\"profiles\",\"슈퍼개미\"]\n",
    "def del_ad(data):\n",
    "    for keyword in ban_list:\n",
    "        if keyword in data:\n",
    "            return None\n",
    "    return data\n",
    "\n",
    "# 불필요한 문자 제거\n",
    "df.Contents = df.Contents.apply(delete_line)\n",
    "\n",
    "\n",
    "# 광고 제거\n",
    "df.Contents = df.Contents.apply(del_ad)\n",
    "df.drop(df.loc[df.Contents.isnull()].index,axis=0,inplace=True)\n",
    "\n",
    "# 한글 포함 게시글만 남기기\n",
    "df.Contents = df.Contents.apply(filter_hangul)\n",
    "df.drop(df.loc[df.Contents.isnull()].index,axis=0,inplace=True)\n",
    "\n",
    "# 인덱스 초기화\n",
    "df = df.reset_index(drop=True)\n",
    "\n",
    "# type 변환\n",
    "df.Name = df.Name.astype(str)\n",
    "\n",
    "# 중복제거\n",
    "df.loc[df.loc[:,'Contents'].drop_duplicates().index]\n",
    "\n",
    "# # 저장\n",
    "df.to_csv(\"./dataset/image_text_tag.csv\",index=False,encoding='utf-8-sig')\n",
    "\n",
    "df"
   ]
  },
  {
   "cell_type": "markdown",
   "id": "a8d0f3f7",
   "metadata": {},
   "source": [
    "### 사용하지 않는 파일 삭제, 메타 데이터 삭제"
   ]
  },
  {
   "cell_type": "code",
   "execution_count": 77,
   "id": "ef94be23-352e-4018-87cb-628ac0eef996",
   "metadata": {},
   "outputs": [
    {
     "name": "stderr",
     "output_type": "stream",
     "text": [
      "100%|█████████████████████████████████████████████| 12799/12799 [00:36<00:00, 354.34it/s]\n",
      "100%|██████████████████████████████████████████████| 9483/9483 [00:03<00:00, 2762.31it/s]\n"
     ]
    }
   ],
   "source": [
    "# 불필요 이미지 제거\n",
    "remove_file = list(set(filelist) - set(df.Name))\n",
    "for target_file in tqdm(remove_file):\n",
    "    os.remove(f\"./dataset/{target_file}.jpg\")\n",
    "    os.remove(f\"./dataset/{target_file}.json\")\n",
    "    \n",
    "# json 제거\n",
    "for target_file in tqdm(df.Name):\n",
    "    os.remove(f\"./dataset/{target_file}.json\")    "
   ]
  }
 ],
 "metadata": {
  "kernelspec": {
   "display_name": "trade",
   "language": "python",
   "name": "conda"
  }
 },
 "nbformat": 4,
 "nbformat_minor": 5
}

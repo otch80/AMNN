{
 "cells": [
  {
   "cell_type": "code",
   "execution_count": 1,
   "metadata": {},
   "outputs": [
    {
     "name": "stderr",
     "output_type": "stream",
     "text": [
      "/home/eric/anaconda3/lib/python3.6/site-packages/h5py/__init__.py:36: FutureWarning: Conversion of the second argument of issubdtype from `float` to `np.floating` is deprecated. In future, it will be treated as `np.float64 == np.dtype(float).type`.\n",
      "  from ._conv import register_converters as _register_converters\n",
      "Using TensorFlow backend.\n"
     ]
    }
   ],
   "source": [
    "from generator import Generator\n",
    "from keras.callbacks import CSVLogger\n",
    "from keras.callbacks import ModelCheckpoint\n",
    "from keras.callbacks import ReduceLROnPlateau\n",
    "from models import NIC\n",
    "from data_manager import DataManager\n",
    "from keras.utils import plot_model\n",
    "import tensorflow as tf\n",
    "from keras.backend.tensorflow_backend import set_session\n",
    "import matplotlib.pyplot as plt"
   ]
  },
  {
   "cell_type": "code",
   "execution_count": 2,
   "metadata": {},
   "outputs": [],
   "source": [
    "num_epochs = 125\n",
    "batch_size = 128\n",
    "cnn_extractor='inception'\n",
    "object_image_features_filename='inception_image_name_to_features.h5'"
   ]
  },
  {
   "cell_type": "code",
   "execution_count": 3,
   "metadata": {},
   "outputs": [],
   "source": [
    "root_path = '../../datasets/image_text/'\n",
    "captions_filename = root_path + 'image_text_data.txt'\n",
    "data_manager = DataManager(data_filename=captions_filename,\n",
    "                            max_caption_length=20,\n",
    "                            word_frequency_threshold=2,\n",
    "                            extract_image_features=False,\n",
    "                            cnn_extractor=cnn_extractor,\n",
    "                            image_directory=root_path,\n",
    "                            split_data=True,\n",
    "                            dump_path=root_path + 'preprocessed_data/')"
   ]
  },
  {
   "cell_type": "code",
   "execution_count": 4,
   "metadata": {},
   "outputs": [
    {
     "name": "stdout",
     "output_type": "stream",
     "text": [
      "Loading data ...\n",
      "Loaded 57177 captions\n",
      "Removing captions longer than 20 ...\n",
      "Number of files removed: 11399\n",
      "Current number of files: 45778\n",
      "Removing words with a frequency less than 2 ...\n",
      "Number of words removed: 1\n",
      "Current number of words: 997\n",
      "num of training data size: 41200\n",
      "num of validation data size: 4578\n",
      "['likeforlikes', 'follows', 'lgbt', 'gay', 'instafollow', 'tbt', 'follow', 'followfollow', 'likelike', 'look', 'tumblr', 'video', 'photo', 'makeup']\n",
      "[['love' '7949']\n",
      " ['instagood' '5879']\n",
      " ['christmas' '4826']\n",
      " ['photography' '4814']\n",
      " ['art' '4524']\n",
      " ['photooftheday' '4345']\n",
      " ['fashion' '3911']\n",
      " ['fitness' '3522']\n",
      " ['picoftheday' '3077']\n",
      " ['beautiful' '3064']\n",
      " ['travel' '3059']\n",
      " ['instagram' '2836']\n",
      " ['happy' '2810']\n",
      " ['food' '2683']\n",
      " ['style' '2512']\n",
      " ['nature' '2492']\n",
      " ['cute' '2489']\n",
      " ['motivation' '2446']\n",
      " ['beauty' '2349']\n",
      " ['family' '2164']]\n",
      "Loading training dataset...\n",
      "Loading validation dataset...\n",
      "Loading all tweet dataset...\n",
      "Loading vocabulary...\n"
     ]
    }
   ],
   "source": [
    "data_manager.preprocess()\n",
    "print(data_manager.captions[0])\n",
    "print(data_manager.word_frequencies[0:20])\n",
    "\n",
    "preprocessed_data_path = root_path + 'preprocessed_data/'\n",
    "generator = Generator(data_path=preprocessed_data_path,\n",
    "                      batch_size=batch_size,image_features_filename=object_image_features_filename)\n"
   ]
  },
  {
   "cell_type": "code",
   "execution_count": 5,
   "metadata": {},
   "outputs": [
    {
     "name": "stdout",
     "output_type": "stream",
     "text": [
      "Number of training samples: 41200\n",
      "Number of validation samples: 4578\n",
      "1000\n",
      "2048\n"
     ]
    }
   ],
   "source": [
    "num_training_samples =  generator.training_dataset.shape[0]\n",
    "num_validation_samples = generator.validation_dataset.shape[0]\n",
    "print('Number of training samples:', num_training_samples)\n",
    "print('Number of validation samples:', num_validation_samples)\n",
    "\n",
    "print(generator.VOCABULARY_SIZE)\n",
    "print(generator.IMG_FEATS)"
   ]
  },
  {
   "cell_type": "code",
   "execution_count": 6,
   "metadata": {},
   "outputs": [
    {
     "name": "stdout",
     "output_type": "stream",
     "text": [
      "<generator object Generator.flow at 0x7fb3fd405410>\n"
     ]
    }
   ],
   "source": [
    "train_gen=generator.flow(mode='train')\n",
    "print(train_gen)"
   ]
  },
  {
   "cell_type": "code",
   "execution_count": 7,
   "metadata": {},
   "outputs": [
    {
     "name": "stdout",
     "output_type": "stream",
     "text": [
      "(128, 22, 2048)\n",
      "(128, 22, 1000)\n",
      "(128, 80)\n"
     ]
    }
   ],
   "source": [
    "batch=next(train_gen)\n",
    "print(batch[0]['image'].shape)\n",
    "print(batch[0]['text'].shape)\n",
    "print(batch[0]['tweet'].shape)"
   ]
  },
  {
   "cell_type": "code",
   "execution_count": 10,
   "metadata": {},
   "outputs": [
    {
     "name": "stdout",
     "output_type": "stream",
     "text": [
      "[[0.000e+00 0.000e+00 0.000e+00 ... 0.000e+00 0.000e+00 1.000e+00]\n",
      " [0.000e+00 0.000e+00 0.000e+00 ... 7.700e+01 1.261e+03 8.280e+02]\n",
      " [0.000e+00 0.000e+00 0.000e+00 ... 0.000e+00 0.000e+00 3.840e+02]\n",
      " ...\n",
      " [0.000e+00 0.000e+00 0.000e+00 ... 1.000e+00 1.831e+03 3.400e+02]\n",
      " [0.000e+00 0.000e+00 0.000e+00 ... 2.000e+00 9.000e+00 2.300e+02]\n",
      " [0.000e+00 0.000e+00 0.000e+00 ... 1.713e+03 1.300e+02 1.020e+02]]\n"
     ]
    }
   ],
   "source": [
    "print(batch[0]['tweet'])"
   ]
  },
  {
   "cell_type": "code",
   "execution_count": null,
   "metadata": {},
   "outputs": [],
   "source": []
  }
 ],
 "metadata": {
  "kernelspec": {
   "display_name": "Python 3",
   "language": "python",
   "name": "python3"
  },
  "language_info": {
   "codemirror_mode": {
    "name": "ipython",
    "version": 3
   },
   "file_extension": ".py",
   "mimetype": "text/x-python",
   "name": "python",
   "nbconvert_exporter": "python",
   "pygments_lexer": "ipython3",
   "version": "3.6.4"
  }
 },
 "nbformat": 4,
 "nbformat_minor": 2
}

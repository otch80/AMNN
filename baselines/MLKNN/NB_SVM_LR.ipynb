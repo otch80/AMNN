{
 "cells": [
  {
   "cell_type": "code",
   "execution_count": 1,
   "metadata": {},
   "outputs": [],
   "source": [
    "import numpy as np\n",
    "from sklearn.pipeline import Pipeline\n",
    "from sklearn.feature_extraction.text import CountVectorizer\n",
    "from sklearn.svm import LinearSVC\n",
    "from sklearn.feature_extraction.text import TfidfTransformer\n",
    "from sklearn.multiclass import OneVsRestClassifier\n",
    "from sklearn.preprocessing import MultiLabelBinarizer\n",
    "import pandas as pd\n",
    "from tqdm import tqdm"
   ]
  },
  {
   "cell_type": "code",
   "execution_count": 8,
   "metadata": {},
   "outputs": [
    {
     "name": "stdout",
     "output_type": "stream",
     "text": [
      "Loading training dataset...\n",
      "51172\n"
     ]
    },
    {
     "name": "stderr",
     "output_type": "stream",
     "text": [
      "/home/eric/anaconda3/lib/python3.6/site-packages/ipykernel_launcher.py:4: FutureWarning: read_table is deprecated, use read_csv instead.\n",
      "  after removing the cwd from sys.path.\n"
     ]
    },
    {
     "name": "stdout",
     "output_type": "stream",
     "text": [
      "air feel smell fresh brew coffe\n",
      "['me', 'night', 'fun', 'happy', 'coffee', 'love', 'amazing', 'cute', 'day', 'likeforfollow', 'likeforlikes', 'woman', 'instagood', 'mood', 'white', 'black']\n"
     ]
    }
   ],
   "source": [
    "data_path='./data/'\n",
    "training_filename = data_path + 'training_data.txt'\n",
    "print('Loading training dataset...')\n",
    "train_data = pd.read_table(training_filename, delimiter='*')\n",
    "train_data.drop(columns=['image_names'],inplace=True)\n",
    "# train_data = train_data.values.tolist()\n",
    "print(len(train_data))\n",
    "x_train=train_data['tweets'].values\n",
    "y_train=train_data['hashtags'].apply(lambda x:x.split()).values\n",
    "print(x_train[0])\n",
    "print(y_train[0])"
   ]
  },
  {
   "cell_type": "code",
   "execution_count": 9,
   "metadata": {},
   "outputs": [],
   "source": [
    "mlb = MultiLabelBinarizer()\n",
    "Y = mlb.fit_transform(y_train)"
   ]
  },
  {
   "cell_type": "code",
   "execution_count": 10,
   "metadata": {},
   "outputs": [],
   "source": [
    "classifier = Pipeline([\n",
    "    ('vectorizer', CountVectorizer()),\n",
    "    ('tfidf', TfidfTransformer()),\n",
    "    ('clf', OneVsRestClassifier(LinearSVC()))])"
   ]
  },
  {
   "cell_type": "code",
   "execution_count": null,
   "metadata": {},
   "outputs": [],
   "source": []
  },
  {
   "cell_type": "code",
   "execution_count": 11,
   "metadata": {},
   "outputs": [
    {
     "name": "stdout",
     "output_type": "stream",
     "text": [
      "5686\n",
      "instead turkey got quail stuf preserv truffl pea shoot yummi gamey\n",
      "foodie food foodporn foodblogger rich christmaseve\n"
     ]
    },
    {
     "name": "stderr",
     "output_type": "stream",
     "text": [
      "/home/eric/anaconda3/lib/python3.6/site-packages/ipykernel_launcher.py:2: FutureWarning: read_table is deprecated, use read_csv instead.\n",
      "  \n"
     ]
    }
   ],
   "source": [
    "validation_filename = data_path + 'validation_data.txt'\n",
    "validation_data = pd.read_table(validation_filename, delimiter='*')\n",
    "validation_data.drop(columns=['image_names'],inplace=True)\n",
    "# validation_data = validation_data.values.tolist()\n",
    "print(len(validation_data))\n",
    "X_test=validation_data['tweets'].values\n",
    "Y_test=validation_data['hashtags'].values\n",
    "print(X_test[0])\n",
    "print(Y_test[0])"
   ]
  },
  {
   "cell_type": "code",
   "execution_count": 12,
   "metadata": {},
   "outputs": [],
   "source": [
    "classifier.fit(x_train, Y)\n",
    "predicted = classifier.predict(X_test)\n",
    "all_labels = mlb.inverse_transform(predicted)"
   ]
  },
  {
   "cell_type": "code",
   "execution_count": 18,
   "metadata": {},
   "outputs": [
    {
     "name": "stdout",
     "output_type": "stream",
     "text": [
      "5686\n",
      "fashion\n",
      "fit\n",
      "follow\n",
      "gymlife\n"
     ]
    }
   ],
   "source": [
    "print(len(all_labels))\n",
    "for item in all_labels[3]:\n",
    "    print(item)\n",
    "    \n"
   ]
  },
  {
   "cell_type": "code",
   "execution_count": 19,
   "metadata": {},
   "outputs": [],
   "source": [
    "with open('svm_predict.txt','w') as f:\n",
    "    for i in range(len(all_labels)):\n",
    "        hashtags=[]\n",
    "        for item in all_labels[i]:\n",
    "            hashtags.append(item)\n",
    "        f.write(' '.join(hashtags))\n",
    "        f.write('\\n')"
   ]
  },
  {
   "cell_type": "code",
   "execution_count": 4,
   "metadata": {},
   "outputs": [],
   "source": [
    "import pickle\n",
    "word_to_id_filename='word_to_id.p'\n",
    "id_to_word_filename='id_to_word.p'\n",
    "word_to_id = pickle.load(open(data_path +\n",
    "                                           word_to_id_filename, 'rb'))\n",
    "id_to_word = pickle.load(open(data_path +\n",
    "                                           id_to_word_filename, 'rb'))"
   ]
  },
  {
   "cell_type": "code",
   "execution_count": 5,
   "metadata": {},
   "outputs": [
    {
     "name": "stderr",
     "output_type": "stream",
     "text": [
      "100%|██████████| 51172/51172 [00:00<00:00, 118842.40it/s]\n",
      "100%|██████████| 5686/5686 [00:00<00:00, 144840.23it/s]\n"
     ]
    }
   ],
   "source": [
    "import numpy as np\n",
    "max_len=1003\n",
    "def to_category_vector(texts,max_len):\n",
    "    vector = np.zeros(max_len).astype(np.float32)\n",
    "    for word in texts :\n",
    "        vector[word_to_id[word]]=1.0\n",
    "    return vector\n",
    "document_Y = []\n",
    "test_y=[]\n",
    "for example in tqdm(y_train):\n",
    "    arr=example.strip().split()\n",
    "    document_Y.append(to_category_vector(arr,max_len))\n",
    "document_Y=np.array(document_Y)\n",
    "for example in tqdm(Y_test):\n",
    "    arr=example.strip().split()\n",
    "    test_y.append(to_category_vector(arr,max_len))\n",
    "test_y=np.array(test_y)"
   ]
  },
  {
   "cell_type": "code",
   "execution_count": 7,
   "metadata": {},
   "outputs": [
    {
     "name": "stdout",
     "output_type": "stream",
     "text": [
      "(51172, 1003)\n",
      "[0. 0. 0. ... 0. 0. 0.]\n"
     ]
    }
   ],
   "source": [
    "print(document_Y.shape)\n",
    "print(document_Y[1])"
   ]
  },
  {
   "cell_type": "code",
   "execution_count": 8,
   "metadata": {},
   "outputs": [
    {
     "name": "stderr",
     "output_type": "stream",
     "text": [
      "100%|█████████▉| 998/1001 [38:57<00:07,  2.34s/it]/home/eric/anaconda3/lib/python3.6/site-packages/sklearn/multiclass.py:76: UserWarning: Label not 0.0 is present in all training examples.\n",
      "  str(classes[c]))\n"
     ]
    },
    {
     "ename": "KeyError",
     "evalue": "1001",
     "output_type": "error",
     "traceback": [
      "\u001b[0;31m---------------------------------------------------------------------------\u001b[0m",
      "\u001b[0;31mKeyError\u001b[0m                                  Traceback (most recent call last)",
      "\u001b[0;32m<ipython-input-8-03f66be578bc>\u001b[0m in \u001b[0;36m<module>\u001b[0;34m()\u001b[0m\n\u001b[1;32m     33\u001b[0m     \u001b[0;31m# compute the testing accuracy\u001b[0m\u001b[0;34m\u001b[0m\u001b[0;34m\u001b[0m\u001b[0m\n\u001b[1;32m     34\u001b[0m     \u001b[0mprediction\u001b[0m \u001b[0;34m=\u001b[0m \u001b[0mNB_pipeline\u001b[0m\u001b[0;34m.\u001b[0m\u001b[0mpredict\u001b[0m\u001b[0;34m(\u001b[0m\u001b[0mX_test\u001b[0m\u001b[0;34m)\u001b[0m\u001b[0;34m\u001b[0m\u001b[0m\n\u001b[0;32m---> 35\u001b[0;31m     \u001b[0mresuts\u001b[0m\u001b[0;34m[\u001b[0m\u001b[0mid_to_word\u001b[0m\u001b[0;34m[\u001b[0m\u001b[0mi\u001b[0m\u001b[0;34m]\u001b[0m\u001b[0;34m]\u001b[0m\u001b[0;34m=\u001b[0m\u001b[0mprediction\u001b[0m\u001b[0;34m\u001b[0m\u001b[0m\n\u001b[0m\u001b[1;32m     36\u001b[0m \u001b[0;31m#     break\u001b[0m\u001b[0;34m\u001b[0m\u001b[0;34m\u001b[0m\u001b[0m\n\u001b[1;32m     37\u001b[0m     \u001b[0mresuts\u001b[0m\u001b[0;34m.\u001b[0m\u001b[0mto_csv\u001b[0m\u001b[0;34m(\u001b[0m\u001b[0;34m\"result.csv\"\u001b[0m\u001b[0;34m)\u001b[0m\u001b[0;34m\u001b[0m\u001b[0m\n",
      "\u001b[0;31mKeyError\u001b[0m: 1001"
     ]
    }
   ],
   "source": [
    "from sklearn.feature_extraction.text import TfidfVectorizer\n",
    "from sklearn.naive_bayes import MultinomialNB\n",
    "from sklearn.metrics import accuracy_score\n",
    "\n",
    "NB_resuts=pd.DataFrame()\n",
    "# mlb = MultiLabelBinarizer()\n",
    "# Y = mlb.fit_transform(y_train)\n",
    "\n",
    "# classifier = Pipeline([\n",
    "#     ('vectorizer', CountVectorizer()),\n",
    "#     ('tfidf', TfidfTransformer()),\n",
    "#     ('clf', OneVsRestClassifier(LinearSVC()))])\n",
    "\n",
    "# classifier.fit(x_train, Y)\n",
    "# predicted = classifier.predict(X_test)\n",
    "# all_labels = mlb.inverse_transform(predicted)\n",
    "\n",
    "# for item, labels in zip(X_test, all_labels):\n",
    "#     print('{0} => {1}'.format(item, ', '.join(labels)))\n",
    "\n",
    "# Define a pipeline combining a text feature extractor with multi lable classifier\n",
    "NB_pipeline = Pipeline([\n",
    "                ('tfidf', TfidfVectorizer()),\n",
    "                ('clf', OneVsRestClassifier(MultinomialNB(\n",
    "                    fit_prior=True, class_prior=None))),\n",
    "            ])\n",
    "for i in tqdm(range(3,1004)):\n",
    "#     print('... Processing {}'.format(id_to_word[i]))\n",
    "    # train the model using X_dtm & y\n",
    "#     print(x_train.shape)\n",
    "#     print(document_Y[:,i].shape)\n",
    "    NB_pipeline.fit(x_train, document_Y[:,i])\n",
    "    # compute the testing accuracy\n",
    "    prediction = NB_pipeline.predict(X_test)\n",
    "    resuts[id_to_word[i]]=prediction\n",
    "#     break\n",
    "NB_resuts.to_csv(\"result.csv\")\n",
    "#     print(prediction.shape)\n",
    "#     print(test_y.shape)\n",
    "#     print('Test accuracy is {}'.format(accuracy_score(test_y[:,i], prediction)))"
   ]
  },
  {
   "cell_type": "code",
   "execution_count": null,
   "metadata": {},
   "outputs": [],
   "source": [
    "svc_resutls=pd.DataFrame()\n",
    "SVC_pipeline = Pipeline([\n",
    "                ('tfidf', TfidfVectorizer()),\n",
    "                ('clf', OneVsRestClassifier(LinearSVC(), n_jobs=1)),\n",
    "            ])\n",
    "for i in tqdm(range(3,1004)):\n",
    "#     print('... Processing {}'.format(id_to_word[i]))\n",
    "    # train the model using X_dtm & y\n",
    "#     print(x_train.shape)\n",
    "#     print(document_Y[:,i].shape)\n",
    "    NB_pipeline.fit(x_train, document_Y[:,i])\n",
    "    # compute the testing accuracy\n",
    "    prediction = NB_pipeline.predict(X_test)\n",
    "    svc_resutls[id_to_word[i]]=prediction\n",
    "#     break\n",
    "svc_resutls.to_csv(\"svc_resutls.csv\")"
   ]
  },
  {
   "cell_type": "code",
   "execution_count": null,
   "metadata": {},
   "outputs": [],
   "source": [
    "LR_resutls=pd.DataFrame()\n",
    "LogReg_pipeline = Pipeline([\n",
    "                ('tfidf', TfidfVectorizer()),\n",
    "                ('clf', OneVsRestClassifier(LogisticRegression(solver='sag'), n_jobs=1)),\n",
    "            ])\n",
    "for i in tqdm(range(3,1004)):\n",
    "#     print('... Processing {}'.format(id_to_word[i]))\n",
    "    # train the model using X_dtm & y\n",
    "#     print(x_train.shape)\n",
    "#     print(document_Y[:,i].shape)\n",
    "    NB_pipeline.fit(x_train, document_Y[:,i])\n",
    "    # compute the testing accuracy\n",
    "    prediction = NB_pipeline.predict(X_test)\n",
    "    LR_resutls[id_to_word[i]]=prediction\n",
    "#     break\n",
    "LR_resutls.to_csv(\"LR_resutls.csv\")"
   ]
  }
 ],
 "metadata": {
  "kernelspec": {
   "display_name": "Python 3",
   "language": "python",
   "name": "python3"
  },
  "language_info": {
   "codemirror_mode": {
    "name": "ipython",
    "version": 3
   },
   "file_extension": ".py",
   "mimetype": "text/x-python",
   "name": "python",
   "nbconvert_exporter": "python",
   "pygments_lexer": "ipython3",
   "version": "3.6.4"
  }
 },
 "nbformat": 4,
 "nbformat_minor": 2
}

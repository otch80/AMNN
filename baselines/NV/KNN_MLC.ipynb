{
 "cells": [
  {
   "cell_type": "code",
   "execution_count": 2,
   "metadata": {},
   "outputs": [
    {
     "name": "stdout",
     "output_type": "stream",
     "text": [
      "emotions:train - does not exists downloading\n",
      "Downloaded emotions-train\n",
      "emotions:test - does not exists downloading\n",
      "Downloaded emotions-test\n"
     ]
    }
   ],
   "source": [
    "from skmultilearn.dataset import load_dataset\n",
    "\n",
    "X_train, y_train, feature_names, label_names = load_dataset('emotions', 'train')\n",
    "X_test, y_test, _, _ = load_dataset('emotions', 'test')"
   ]
  },
  {
   "cell_type": "code",
   "execution_count": 3,
   "metadata": {},
   "outputs": [
    {
     "data": {
      "text/plain": [
       "[('Mean_Acc1298_Mean_Mem40_Centroid', 'NUMERIC'),\n",
       " ('Mean_Acc1298_Mean_Mem40_Rolloff', 'NUMERIC'),\n",
       " ('Mean_Acc1298_Mean_Mem40_Flux', 'NUMERIC'),\n",
       " ('Mean_Acc1298_Mean_Mem40_MFCC_0', 'NUMERIC'),\n",
       " ('Mean_Acc1298_Mean_Mem40_MFCC_1', 'NUMERIC'),\n",
       " ('Mean_Acc1298_Mean_Mem40_MFCC_2', 'NUMERIC'),\n",
       " ('Mean_Acc1298_Mean_Mem40_MFCC_3', 'NUMERIC'),\n",
       " ('Mean_Acc1298_Mean_Mem40_MFCC_4', 'NUMERIC'),\n",
       " ('Mean_Acc1298_Mean_Mem40_MFCC_5', 'NUMERIC'),\n",
       " ('Mean_Acc1298_Mean_Mem40_MFCC_6', 'NUMERIC')]"
      ]
     },
     "execution_count": 3,
     "metadata": {},
     "output_type": "execute_result"
    }
   ],
   "source": [
    "feature_names[:10]"
   ]
  },
  {
   "cell_type": "code",
   "execution_count": 4,
   "metadata": {},
   "outputs": [
    {
     "data": {
      "text/plain": [
       "[('amazed-suprised', ['0', '1']),\n",
       " ('happy-pleased', ['0', '1']),\n",
       " ('relaxing-calm', ['0', '1']),\n",
       " ('quiet-still', ['0', '1']),\n",
       " ('sad-lonely', ['0', '1']),\n",
       " ('angry-aggresive', ['0', '1'])]"
      ]
     },
     "execution_count": 4,
     "metadata": {},
     "output_type": "execute_result"
    }
   ],
   "source": [
    "label_names"
   ]
  },
  {
   "cell_type": "code",
   "execution_count": 5,
   "metadata": {},
   "outputs": [],
   "source": [
    "from skmultilearn.problem_transform import BinaryRelevance\n",
    "from sklearn.svm import SVC"
   ]
  },
  {
   "cell_type": "code",
   "execution_count": 6,
   "metadata": {},
   "outputs": [],
   "source": [
    "clf = BinaryRelevance(\n",
    "    classifier=SVC(),\n",
    "    require_dense=[False, True]\n",
    ")"
   ]
  },
  {
   "cell_type": "code",
   "execution_count": 10,
   "metadata": {},
   "outputs": [
    {
     "name": "stderr",
     "output_type": "stream",
     "text": [
      "/home/eric/anaconda3/lib/python3.6/site-packages/sklearn/svm/base.py:196: FutureWarning: The default value of gamma will change from 'auto' to 'scale' in version 0.22 to account better for unscaled features. Set gamma explicitly to 'auto' or 'scale' to avoid this warning.\n",
      "  \"avoid this warning.\", FutureWarning)\n"
     ]
    },
    {
     "data": {
      "text/plain": [
       "BinaryRelevance(classifier=SVC(C=1.0, cache_size=200, class_weight=None, coef0=0.0,\n",
       "  decision_function_shape='ovr', degree=3, gamma='auto_deprecated',\n",
       "  kernel='rbf', max_iter=-1, probability=False, random_state=None,\n",
       "  shrinking=True, tol=0.001, verbose=False),\n",
       "        require_dense=[False, True])"
      ]
     },
     "execution_count": 10,
     "metadata": {},
     "output_type": "execute_result"
    }
   ],
   "source": [
    "clf.fit(X_train, y_train)"
   ]
  },
  {
   "cell_type": "code",
   "execution_count": 20,
   "metadata": {},
   "outputs": [
    {
     "name": "stdout",
     "output_type": "stream",
     "text": [
      "  (0, 0)\t0.034741\n",
      "  (0, 1)\t0.089665\n",
      "  (0, 2)\t0.091225\n",
      "  (0, 3)\t-73.302422\n",
      "  (0, 4)\t6.215179\n",
      "  (0, 5)\t0.615074\n",
      "  (0, 6)\t2.03716\n",
      "  (0, 7)\t0.804065\n",
      "  (0, 8)\t1.301409\n",
      "  (0, 9)\t0.558576\n",
      "  (0, 10)\t0.672063\n",
      "  (0, 11)\t0.783788\n",
      "  (0, 12)\t0.76664\n",
      "  (0, 13)\t0.458712\n",
      "  (0, 14)\t0.530384\n",
      "  (0, 15)\t0.812429\n",
      "  (0, 16)\t0.028851\n",
      "  (0, 17)\t0.129039\n",
      "  (0, 18)\t0.039614\n",
      "  (0, 19)\t5.762173\n",
      "  (0, 20)\t1.636819\n",
      "  (0, 21)\t1.170034\n",
      "  (0, 22)\t1.051511\n",
      "  (0, 23)\t0.764163\n",
      "  (0, 24)\t0.642705\n",
      "  (0, 25)\t0.617868\n",
      "  (0, 26)\t0.510265\n",
      "  (0, 27)\t0.566213\n",
      "  (0, 28)\t0.509149\n",
      "  (0, 29)\t0.477275\n",
      "  (0, 30)\t0.505073\n",
      "  (0, 31)\t0.463535\n",
      "  (0, 32)\t0.013519\n",
      "  (0, 33)\t0.050591\n",
      "  (0, 34)\t0.009025\n",
      "  (0, 35)\t8.156257\n",
      "  (0, 36)\t1.077167\n",
      "  (0, 37)\t0.624711\n",
      "  (0, 38)\t0.810244\n",
      "  (0, 39)\t0.399568\n",
      "  (0, 40)\t0.279947\n",
      "  (0, 41)\t0.314215\n",
      "  (0, 42)\t0.231439\n",
      "  (0, 43)\t0.345401\n",
      "  (0, 44)\t0.285389\n",
      "  (0, 45)\t0.210613\n",
      "  (0, 46)\t0.321896\n",
      "  (0, 47)\t0.290551\n",
      "  (0, 48)\t0.022774\n",
      "  (0, 49)\t0.095801\n",
      "  (0, 50)\t0.015057\n",
      "  (0, 51)\t4.748694\n",
      "  (0, 52)\t0.536378\n",
      "  (0, 53)\t0.296306\n",
      "  (0, 54)\t0.27321\n",
      "  (0, 55)\t0.1758\n",
      "  (0, 56)\t0.105508\n",
      "  (0, 57)\t0.168246\n",
      "  (0, 58)\t0.115849\n",
      "  (0, 59)\t0.13602\n",
      "  (0, 60)\t0.110514\n",
      "  (0, 61)\t0.100517\n",
      "  (0, 62)\t0.11863\n",
      "  (0, 63)\t0.094923\n",
      "  (0, 64)\t0.051035\n",
      "  (0, 65)\t68.0\n",
      "  (0, 66)\t0.014937\n",
      "  (0, 67)\t136.0\n",
      "  (0, 68)\t2.0\n",
      "  (0, 69)\t0.245457\n",
      "  (0, 70)\t0.105065\n",
      "  (0, 71)\t0.405399\n",
      "  (0, 1)\t1\n",
      "  (0, 2)\t1\n"
     ]
    }
   ],
   "source": [
    "print(X_train[0])\n",
    "print(y_train[0])"
   ]
  },
  {
   "cell_type": "code",
   "execution_count": 12,
   "metadata": {},
   "outputs": [],
   "source": [
    "prediction = clf.predict(X_test)"
   ]
  },
  {
   "cell_type": "code",
   "execution_count": 13,
   "metadata": {},
   "outputs": [
    {
     "data": {
      "text/plain": [
       "<202x6 sparse matrix of type '<class 'numpy.int64'>'\n",
       "\twith 246 stored elements in Compressed Sparse Column format>"
      ]
     },
     "execution_count": 13,
     "metadata": {},
     "output_type": "execute_result"
    }
   ],
   "source": [
    "prediction"
   ]
  },
  {
   "cell_type": "code",
   "execution_count": 14,
   "metadata": {},
   "outputs": [],
   "source": [
    "import sklearn.metrics as metrics"
   ]
  },
  {
   "cell_type": "code",
   "execution_count": 15,
   "metadata": {},
   "outputs": [
    {
     "data": {
      "text/plain": [
       "0.26485148514851486"
      ]
     },
     "execution_count": 15,
     "metadata": {},
     "output_type": "execute_result"
    }
   ],
   "source": [
    "metrics.hamming_loss(y_test, prediction)"
   ]
  },
  {
   "cell_type": "code",
   "execution_count": 16,
   "metadata": {},
   "outputs": [
    {
     "data": {
      "text/plain": [
       "0.14356435643564355"
      ]
     },
     "execution_count": 16,
     "metadata": {},
     "output_type": "execute_result"
    }
   ],
   "source": [
    "metrics.accuracy_score(y_test, prediction)"
   ]
  },
  {
   "cell_type": "code",
   "execution_count": null,
   "metadata": {},
   "outputs": [],
   "source": []
  }
 ],
 "metadata": {
  "kernelspec": {
   "display_name": "Python 3",
   "language": "python",
   "name": "python3"
  },
  "language_info": {
   "codemirror_mode": {
    "name": "ipython",
    "version": 3
   },
   "file_extension": ".py",
   "mimetype": "text/x-python",
   "name": "python",
   "nbconvert_exporter": "python",
   "pygments_lexer": "ipython3",
   "version": "3.6.4"
  }
 },
 "nbformat": 4,
 "nbformat_minor": 2
}

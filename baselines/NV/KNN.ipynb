{
 "cells": [
  {
   "cell_type": "code",
   "execution_count": 22,
   "metadata": {},
   "outputs": [],
   "source": [
    "from sklearn.neighbors import KNeighborsClassifier\n",
    "from sklearn.model_selection import KFold\n",
    "from sklearn.model_selection import train_test_split\n",
    "from imutils import paths\n",
    "import numpy as np\n",
    "import argparse\n",
    "import imutils\n",
    "import pandas as pd\n",
    "import cv2\n",
    "import os\n",
    "from tqdm import tqdm\n",
    "\n",
    "def image_to_feature_vector(image, size=(32, 32)):\n",
    "\t# resize the image to a fixed size, then flatten the image into\n",
    "\t# a list of raw pixel intensities\n",
    "\treturn cv2.resize(image, size).flatten()\n",
    "\n",
    "def extract_color_histogram(image, bins=(8, 8, 8)):\n",
    "\t# extract a 3D color histogram from the HSV color space using\n",
    "\t# the supplied number of `bins` per channel\n",
    "\thsv = cv2.cvtColor(image, cv2.COLOR_BGR2HSV)\n",
    "\thist = cv2.calcHist([hsv], [0, 1, 2], None, bins,\n",
    "\t\t[0, 180, 0, 256, 0, 256])\n",
    "\n",
    "\t# handle normalizing the histogram if we are using OpenCV 2.4.X\n",
    "\tif imutils.is_cv2():\n",
    "\t\thist = cv2.normalize(hist)\n",
    "\n",
    "\t# otherwise, perform \"in place\" normalization in OpenCV 3 (I\n",
    "\t# personally hate the way this is done\n",
    "\telse:\n",
    "\t\tcv2.normalize(hist, hist)\n",
    "\n",
    "\t# return the flattened histogram as the feature vector\n",
    "\treturn hist.flatten()"
   ]
  },
  {
   "cell_type": "code",
   "execution_count": 23,
   "metadata": {},
   "outputs": [
    {
     "name": "stdout",
     "output_type": "stream",
     "text": [
      "[INFO] describing images...\n",
      "Loading training dataset...\n",
      "me night fun happy coffee love amazing cute day likeforfollow likeforlikes woman instagood mood white black\n",
      "                                       image_names  \\\n",
      "0          dataset/fun/2018-12-28_09-41-29_UTC.jpg   \n",
      "1  dataset/goodmorning/2018-12-25_17-20-22_UTC.jpg   \n",
      "2         dataset/baby/2018-12-25_07-10-14_UTC.jpg   \n",
      "3      dataset/wedding/2019-01-02_22-01-00_UTC.jpg   \n",
      "4    dataset/instafood/2018-12-21_15-26-39_UTC.jpg   \n",
      "\n",
      "                                            hashtags  \n",
      "0  me night fun happy coffee love amazing cute da...  \n",
      "1  christmas hiphop music video swag photo follow...  \n",
      "2                     pink kitten cute babygirl baby  \n",
      "3  shoes streetwear streetart streetstyle streetp...  \n",
      "4  food foodporn instafood foodie eeeeeats nomnom...  \n",
      "me night fun happy coffee love amazing cute day likeforfollow likeforlikes woman instagood mood white black\n",
      "51172\n"
     ]
    }
   ],
   "source": [
    "print(\"[INFO] describing images...\")\n",
    "data_path='/home/eric/Documents/Hashtag-recommendation-for-social-images/image_text_hashtagging/datasets/image_text/preprocessed_data/'\n",
    "training_filename = data_path + 'training_data.txt'\n",
    "image_path='/home/eric/data/social_images'\n",
    "print('Loading training dataset...')\n",
    "train_data = pd.read_table(training_filename, delimiter='*')\n",
    "train_data.drop(columns=['tweets'],inplace=True)\n",
    "print(train_data.iloc[0,1])\n",
    "print(train_data.head())\n",
    "train_data = train_data.values.tolist()\n",
    "# train_data = np.array(train_data,dtype=str) //problem on transform numpy\n",
    "print(train_data[0][1])\n",
    "# imagePaths = list(paths.list_images(args[\"dataset\"]))\n",
    "print(len(train_data))\n",
    "\n",
    "# initialize the raw pixel intensities matrix, the features matrix,\n",
    "# and labels list\n",
    "rawImages = []\n",
    "features = []\n",
    "labels = []"
   ]
  },
  {
   "cell_type": "code",
   "execution_count": 24,
   "metadata": {},
   "outputs": [
    {
     "name": "stderr",
     "output_type": "stream",
     "text": [
      "100%|██████████| 51172/51172 [14:11<00:00, 60.12it/s]\n"
     ]
    }
   ],
   "source": [
    "for img_file,hashatgs in tqdm(train_data):\n",
    "\n",
    "    img_file_path=os.path.join(image_path,img_file)\n",
    "    image = cv2.imread(img_file_path)\n",
    "    pixels = image_to_feature_vector(image)\n",
    "    # print(img_file)\n",
    "    # print(hashatgs)\n",
    "    list_hashtag=hashatgs.strip().split()\n",
    "    rawImages.append(pixels)\n",
    "    labels.append(list_hashtag)"
   ]
  },
  {
   "cell_type": "code",
   "execution_count": 25,
   "metadata": {},
   "outputs": [
    {
     "name": "stdout",
     "output_type": "stream",
     "text": [
      "[['me', 'night', 'fun', 'happy', 'coffee', 'love', 'amazing', 'cute', 'day', 'likeforfollow', 'likeforlikes', 'woman', 'instagood', 'mood', 'white', 'black'], ['christmas', 'hiphop', 'music', 'video', 'swag', 'photo', 'follow', 'goodmorning', 'morning', 'love', 'california', 'rap', 'green'], ['pink', 'kitten', 'cute', 'babygirl', 'baby'], ['shoes', 'streetwear', 'streetart', 'streetstyle', 'streetphotography', 'new', 'beauty', 'hair', 'pretty', 'fashion', 'happiness', 'love', 'yummy', 'model', 'instagood', 'makeup', 'kpop', 'weddingdress', 'wine', 'wedding', 'music', 'dress', 'nails', 'life', 'goodmorning', 'goodnight'], ['food', 'foodporn', 'instafood', 'foodie', 'eeeeeats', 'nomnom', 'foodstagram', 'foodgram', 'yummy', 'foodblogger', 'foodphotography', 'foodgasm'], ['weddingday', 'canon', 'amazing', 'art', 'artistic', 'colors', 'cool', 'instaphoto', 'instapic', 'photo', 'photograph', 'photography', 'photooftheday', 'photos', 'photoshop', 'picoftheday', 'fashion'], ['cute', 'awesome', 'love', 'kids', 'flower', 'heart'], ['festival', 'music', 'entertainment', 'fun', 'food'], ['nye', 'weekend', 'home', 'instagay', 'gay', 'blonde', 'makeup', 'face', 'men', 'la', 'christmastree', 'hair', 'mensfashion', 'makeuptutorial'], ['lashes', 'beauty', 'pretty', 'beautiful', 'classic', 'blessed', 'picoftheday']]\n"
     ]
    }
   ],
   "source": [
    "print(labels[:10])"
   ]
  },
  {
   "cell_type": "code",
   "execution_count": 26,
   "metadata": {},
   "outputs": [],
   "source": [
    "import h5py\n",
    "f_out = h5py.File(\"train.h5\", \"w\")\n",
    "for i in range(len(train_data)):\n",
    "    f_out.create_dataset(name=train_data[i][0], data=rawImages[i])"
   ]
  },
  {
   "cell_type": "code",
   "execution_count": 27,
   "metadata": {},
   "outputs": [],
   "source": [
    "f_out.close()"
   ]
  },
  {
   "cell_type": "code",
   "execution_count": 5,
   "metadata": {},
   "outputs": [],
   "source": [
    "rawImages = np.array(rawImages)\n",
    "features = np.array(features)\n",
    "labels = np.array(labels)"
   ]
  },
  {
   "cell_type": "code",
   "execution_count": 6,
   "metadata": {},
   "outputs": [
    {
     "name": "stdout",
     "output_type": "stream",
     "text": [
      "[INFO] pixels matrix: 112.50MB\n",
      "[INFO] features matrix: 75.00MB\n"
     ]
    }
   ],
   "source": [
    "print(\"[INFO] pixels matrix: {:.2f}MB\".format(\n",
    "\trawImages.nbytes / (1024 * 1000.0)))\n",
    "print(\"[INFO] features matrix: {:.2f}MB\".format(\n",
    "\tfeatures.nbytes / (1024 * 1000.0)))"
   ]
  },
  {
   "cell_type": "code",
   "execution_count": 7,
   "metadata": {},
   "outputs": [],
   "source": [
    "test_size=0.1\n",
    "(trainRI, testRI, trainRL, testRL) = train_test_split(\n",
    "\trawImages, labels, test_size=test_size, random_state=42)\n",
    "(trainFeat, testFeat, trainLabels, testLabels) = train_test_split(\n",
    "\tfeatures, labels, test_size=test_size, random_state=42)"
   ]
  },
  {
   "cell_type": "code",
   "execution_count": 13,
   "metadata": {},
   "outputs": [
    {
     "name": "stdout",
     "output_type": "stream",
     "text": [
      "[[113 100  45 ...  12  60  64]\n",
      " [  8  11  12 ... 124  89  60]\n",
      " [169 173 174 ...  38  73  87]\n",
      " ...\n",
      " [ 79 113 136 ... 190 191 187]\n",
      " [ 89  97 114 ...  52  57  55]\n",
      " [ 20 127 160 ...  74 113 127]]\n"
     ]
    }
   ],
   "source": [
    "print(testRI[:100])"
   ]
  },
  {
   "cell_type": "code",
   "execution_count": null,
   "metadata": {},
   "outputs": [],
   "source": []
  }
 ],
 "metadata": {
  "kernelspec": {
   "display_name": "Python 3",
   "language": "python",
   "name": "python3"
  },
  "language_info": {
   "codemirror_mode": {
    "name": "ipython",
    "version": 3
   },
   "file_extension": ".py",
   "mimetype": "text/x-python",
   "name": "python",
   "nbconvert_exporter": "python",
   "pygments_lexer": "ipython3",
   "version": "3.6.4"
  }
 },
 "nbformat": 4,
 "nbformat_minor": 2
}
